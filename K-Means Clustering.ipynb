{
 "cells": [
  {
   "cell_type": "markdown",
   "metadata": {
    "id": "ikZDBttS-Xhy"
   },
   "source": [
    "### **Name:** Badal Parmar\n",
    "\n",
    "###  K-means Clustering\n"
   ]
  },
  {
   "cell_type": "markdown",
   "metadata": {
    "id": "_iFCcIpDGb9g"
   },
   "source": [
    "# **Importing required libraries**"
   ]
  },
  {
   "cell_type": "code",
   "execution_count": null,
   "metadata": {
    "id": "4z5zZOG6-JAW"
   },
   "outputs": [],
   "source": [
    "from sklearn.datasets import load_iris\n",
    "import pandas as pd\n",
    "import numpy as np\n",
    "import matplotlib.pyplot as plt\n",
    "from matplotlib.colors import ListedColormap"
   ]
  },
  {
   "cell_type": "markdown",
   "metadata": {
    "id": "_IHM7I-iGt6a"
   },
   "source": [
    "# **Loading the dataset**"
   ]
  },
  {
   "cell_type": "code",
   "execution_count": null,
   "metadata": {
    "id": "9aixQU-0Gfz_"
   },
   "outputs": [],
   "source": [
    "iris = load_iris()\n",
    "X = pd.DataFrame(iris.data, columns=iris.feature_names)"
   ]
  },
  {
   "cell_type": "code",
   "execution_count": null,
   "metadata": {
    "colab": {
     "base_uri": "https://localhost:8080/",
     "height": 206
    },
    "id": "OoXGccn9G0En",
    "outputId": "e129631d-6a51-42d7-9ed2-392396be6187"
   },
   "outputs": [
    {
     "data": {
      "text/html": [
       "<div>\n",
       "<style scoped>\n",
       "    .dataframe tbody tr th:only-of-type {\n",
       "        vertical-align: middle;\n",
       "    }\n",
       "\n",
       "    .dataframe tbody tr th {\n",
       "        vertical-align: top;\n",
       "    }\n",
       "\n",
       "    .dataframe thead th {\n",
       "        text-align: right;\n",
       "    }\n",
       "</style>\n",
       "<table border=\"1\" class=\"dataframe\">\n",
       "  <thead>\n",
       "    <tr style=\"text-align: right;\">\n",
       "      <th></th>\n",
       "      <th>sepal length (cm)</th>\n",
       "      <th>sepal width (cm)</th>\n",
       "      <th>petal length (cm)</th>\n",
       "      <th>petal width (cm)</th>\n",
       "    </tr>\n",
       "  </thead>\n",
       "  <tbody>\n",
       "    <tr>\n",
       "      <th>0</th>\n",
       "      <td>5.1</td>\n",
       "      <td>3.5</td>\n",
       "      <td>1.4</td>\n",
       "      <td>0.2</td>\n",
       "    </tr>\n",
       "    <tr>\n",
       "      <th>1</th>\n",
       "      <td>4.9</td>\n",
       "      <td>3.0</td>\n",
       "      <td>1.4</td>\n",
       "      <td>0.2</td>\n",
       "    </tr>\n",
       "    <tr>\n",
       "      <th>2</th>\n",
       "      <td>4.7</td>\n",
       "      <td>3.2</td>\n",
       "      <td>1.3</td>\n",
       "      <td>0.2</td>\n",
       "    </tr>\n",
       "    <tr>\n",
       "      <th>3</th>\n",
       "      <td>4.6</td>\n",
       "      <td>3.1</td>\n",
       "      <td>1.5</td>\n",
       "      <td>0.2</td>\n",
       "    </tr>\n",
       "    <tr>\n",
       "      <th>4</th>\n",
       "      <td>5.0</td>\n",
       "      <td>3.6</td>\n",
       "      <td>1.4</td>\n",
       "      <td>0.2</td>\n",
       "    </tr>\n",
       "  </tbody>\n",
       "</table>\n",
       "</div>"
      ],
      "text/plain": [
       "   sepal length (cm)  sepal width (cm)  petal length (cm)  petal width (cm)\n",
       "0                5.1               3.5                1.4               0.2\n",
       "1                4.9               3.0                1.4               0.2\n",
       "2                4.7               3.2                1.3               0.2\n",
       "3                4.6               3.1                1.5               0.2\n",
       "4                5.0               3.6                1.4               0.2"
      ]
     },
     "execution_count": 154,
     "metadata": {},
     "output_type": "execute_result"
    }
   ],
   "source": [
    "X.head()"
   ]
  },
  {
   "cell_type": "markdown",
   "metadata": {
    "id": "GRXOqFtDKUo-"
   },
   "source": [
    "# **K-means Clustering algorithm from scratch**"
   ]
  },
  {
   "cell_type": "code",
   "execution_count": null,
   "metadata": {
    "id": "neo3SasxG4D2"
   },
   "outputs": [],
   "source": [
    "class kmeans:\n",
    "\n",
    "  def __init__(self, k=2, iterations=5, plot_clusters=False):\n",
    "    self.k = k\n",
    "    self.iterations = iterations\n",
    "    self.plot_clusters = plot_clusters\n",
    "\n",
    "    #Initializing an empty sample list for each cluster\n",
    "    self.clusters = [[] for each in range(self.k)]\n",
    "\n",
    "    #Initializing an empty list for centroid vector of each cluster\n",
    "    self.centroids = []\n",
    "\n",
    "  def predict(self, X):\n",
    "    self.X = np.array(X)\n",
    "    self.samples, self.features = X.shape\n",
    "\n",
    "    index_of_samples = list(range(self.samples))\n",
    "\n",
    "    for trial in range(1,3):\n",
    "\n",
    "      #Initializing centroids\n",
    "      random_indices = np.random.choice(index_of_samples, self.k)\n",
    "      for e in list(random_indices):\n",
    "        index_of_samples.remove(e)\n",
    "\n",
    "      self.centroids = [self.X[index] for index in random_indices]\n",
    "\n",
    "      #Opimizing the clusters \n",
    "      for i in range(self.iterations):\n",
    "\n",
    "        #Updating clusters \n",
    "        self.clusters = self.update_clusters(self.centroids)\n",
    "\n",
    "        #Updating centroids\n",
    "        old_centroids = self.centroids\n",
    "        self.centroids = self.update_centroids(self.clusters)\n",
    "\n",
    "        #Checking for convergence\n",
    "        if self.has_converged(old_centroids, self.centroids):\n",
    "          break\n",
    "\n",
    "      #Printing the converged clusters\n",
    "      print(\"\\nTrial {}\".format(trial))\n",
    "      for cluster_index, cluster in enumerate(self.clusters):\n",
    "        print('\\nC{}:'.format(cluster_index),list(cluster))\n",
    "      print('\\n')\n",
    "      \n",
    "      #Plotting the converged clusters\n",
    "      if self.plot_clusters:\n",
    "        self.plot()\n",
    "\n",
    "    # return self.get_labels(self.clusters)\n",
    "\n",
    "  def update_clusters(self, centroids):\n",
    "    clusters = [[] for _ in range(self.k)]\n",
    "    for sample_index, sample in enumerate(self.X):\n",
    "\n",
    "      #Finding the centroid that is closest to the sample\n",
    "      distances = [self.sum_of_squared_error(sample, centroid) \n",
    "      for centroid in centroids]\n",
    "      closest_centroid_index = np.argmin(distances)\n",
    "\n",
    "      #Appending the index to the cluster correspoding to the closest centroid\n",
    "      clusters[closest_centroid_index].append(sample_index)\n",
    "\n",
    "    return clusters\n",
    "\n",
    "  def update_centroids(self, clusters):\n",
    "    centroids = []\n",
    "    for cluster in clusters:\n",
    "      centroid = np.mean(self.X[cluster], axis=0)\n",
    "      centroids.append(centroid)\n",
    "    return np.array(centroids)\n",
    "\n",
    "  def has_converged(self, old_centroids, new_centroids):\n",
    "    distances = [self.sum_of_squared_error(old_centroids[ind], new_centroids[ind])\n",
    "    for ind in range(self.k)]\n",
    "    return sum(distances) == 0\n",
    "\n",
    "  def get_labels(self, clusters):\n",
    "    labels = np.empty(self.samples)\n",
    "\n",
    "    for cluster_index, cluster in enumerate(clusters):\n",
    "      for sample_index in cluster:\n",
    "        labels[sample_index] = cluster_index\n",
    "    \n",
    "    return labels\n",
    "\n",
    "  def sum_of_squared_error(self, x1, x2):\n",
    "    return np.sum((x1-x2)**2)  \n",
    "\n",
    "  def plot(self):\n",
    "    fig, ax = plt.subplots(figsize=(6,4))\n",
    "\n",
    "    for i, index in enumerate(self.clusters):\n",
    "      point = self.X[index].T\n",
    "      ax.scatter(*point[0:2])\n",
    "    \n",
    "    for point in self.centroids:\n",
    "      ax.scatter(*point[0:2], marker=\"x\", color=\"black\", s=80, linewidth=2)\n",
    "\n",
    "    plt.show()"
   ]
  },
  {
   "cell_type": "markdown",
   "metadata": {
    "id": "LOArF31ZFz5z"
   },
   "source": [
    "# **Running the algorithm with user inputs**"
   ]
  },
  {
   "cell_type": "code",
   "execution_count": null,
   "metadata": {
    "colab": {
     "base_uri": "https://localhost:8080/",
     "height": 1891
    },
    "id": "HiRnvdfeF3SH",
    "outputId": "99de4a8f-5532-4b54-8b31-f549933fe460"
   },
   "outputs": [
    {
     "name": "stdout",
     "output_type": "stream",
     "text": [
      "\n",
      "Dataset: Iris Flower\n",
      "\n",
      "\n",
      "Enter the number of clusters: 2\n",
      "Enter the maximum number of iterations: 40\n",
      "\n",
      "Trial 1\n",
      "\n",
      "C0: [0, 1, 2, 3, 4, 5, 6, 7, 8, 9, 10, 11, 12, 13, 14, 15, 16, 17, 18, 19, 20, 21, 22, 23, 24, 25, 26, 27, 28, 29, 30, 31, 32, 33, 34, 35, 36, 37, 38, 39, 40, 41, 42, 43, 44, 45, 46, 47, 48, 49, 57, 93, 98]\n",
      "\n",
      "C1: [50, 51, 52, 53, 54, 55, 56, 58, 59, 60, 61, 62, 63, 64, 65, 66, 67, 68, 69, 70, 71, 72, 73, 74, 75, 76, 77, 78, 79, 80, 81, 82, 83, 84, 85, 86, 87, 88, 89, 90, 91, 92, 94, 95, 96, 97, 99, 100, 101, 102, 103, 104, 105, 106, 107, 108, 109, 110, 111, 112, 113, 114, 115, 116, 117, 118, 119, 120, 121, 122, 123, 124, 125, 126, 127, 128, 129, 130, 131, 132, 133, 134, 135, 136, 137, 138, 139, 140, 141, 142, 143, 144, 145, 146, 147, 148, 149]\n",
      "\n",
      "\n"
     ]
    },
    {
     "data": {
      "image/png": "[encoded data removed]",
      "text/plain": [
       "<Figure size 432x288 with 1 Axes>"
      ]
     },
     "metadata": {
      "needs_background": "light"
     },
     "output_type": "display_data"
    },
    {
     "name": "stdout",
     "output_type": "stream",
     "text": [
      "\n",
      "Trial 2\n",
      "\n",
      "C0: [50, 51, 52, 53, 54, 55, 56, 58, 59, 60, 61, 62, 63, 64, 65, 66, 67, 68, 69, 70, 71, 72, 73, 74, 75, 76, 77, 78, 79, 80, 81, 82, 83, 84, 85, 86, 87, 88, 89, 90, 91, 92, 94, 95, 96, 97, 99, 100, 101, 102, 103, 104, 105, 106, 107, 108, 109, 110, 111, 112, 113, 114, 115, 116, 117, 118, 119, 120, 121, 122, 123, 124, 125, 126, 127, 128, 129, 130, 131, 132, 133, 134, 135, 136, 137, 138, 139, 140, 141, 142, 143, 144, 145, 146, 147, 148, 149]\n",
      "\n",
      "C1: [0, 1, 2, 3, 4, 5, 6, 7, 8, 9, 10, 11, 12, 13, 14, 15, 16, 17, 18, 19, 20, 21, 22, 23, 24, 25, 26, 27, 28, 29, 30, 31, 32, 33, 34, 35, 36, 37, 38, 39, 40, 41, 42, 43, 44, 45, 46, 47, 48, 49, 57, 93, 98]\n",
      "\n",
      "\n"
     ]
    },
    {
     "data": {
      "image/png": "[encoded data removed]",
      "text/plain": [
       "<Figure size 432x288 with 1 Axes>"
      ]
     },
     "metadata": {
      "needs_background": "light"
     },
     "output_type": "display_data"
    },
    {
     "name": "stdout",
     "output_type": "stream",
     "text": [
      "\n",
      "Do you want to continue? (Yes/ No): Yes\n",
      "\n",
      "Enter the number of clusters: 3\n",
      "Enter the maximum number of iterations: 60\n",
      "\n",
      "Trial 1\n",
      "\n",
      "C0: [51, 53, 54, 55, 56, 57, 58, 59, 60, 61, 62, 63, 64, 65, 66, 67, 68, 69, 70, 71, 72, 73, 74, 75, 76, 78, 79, 80, 81, 82, 83, 84, 85, 86, 87, 88, 89, 90, 91, 92, 93, 94, 95, 96, 97, 98, 99, 101, 106, 113, 114, 119, 121, 123, 126, 127, 133, 138, 142, 146, 149]\n",
      "\n",
      "C1: [0, 1, 2, 3, 4, 5, 6, 7, 8, 9, 10, 11, 12, 13, 14, 15, 16, 17, 18, 19, 20, 21, 22, 23, 24, 25, 26, 27, 28, 29, 30, 31, 32, 33, 34, 35, 36, 37, 38, 39, 40, 41, 42, 43, 44, 45, 46, 47, 48, 49]\n",
      "\n",
      "C2: [50, 52, 77, 100, 102, 103, 104, 105, 107, 108, 109, 110, 111, 112, 115, 116, 117, 118, 120, 122, 124, 125, 128, 129, 130, 131, 132, 134, 135, 136, 137, 139, 140, 141, 143, 144, 145, 147, 148]\n",
      "\n",
      "\n"
     ]
    },
    {
     "data": {
      "image/png": "[encoded data removed]",
      "text/plain": [
       "<Figure size 432x288 with 1 Axes>"
      ]
     },
     "metadata": {
      "needs_background": "light"
     },
     "output_type": "display_data"
    },
    {
     "name": "stdout",
     "output_type": "stream",
     "text": [
      "\n",
      "Trial 2\n",
      "\n",
      "C0: [0, 1, 2, 3, 4, 5, 6, 7, 8, 9, 10, 11, 12, 13, 14, 15, 16, 17, 18, 19, 20, 21, 22, 23, 24, 25, 26, 27, 28, 29, 30, 31, 32, 33, 34, 35, 36, 37, 38, 39, 40, 41, 42, 43, 44, 45, 46, 47, 48, 49]\n",
      "\n",
      "C1: [52, 77, 100, 102, 103, 104, 105, 107, 108, 109, 110, 111, 112, 115, 116, 117, 118, 120, 122, 124, 125, 128, 129, 130, 131, 132, 134, 135, 136, 137, 139, 140, 141, 143, 144, 145, 147, 148]\n",
      "\n",
      "C2: [50, 51, 53, 54, 55, 56, 57, 58, 59, 60, 61, 62, 63, 64, 65, 66, 67, 68, 69, 70, 71, 72, 73, 74, 75, 76, 78, 79, 80, 81, 82, 83, 84, 85, 86, 87, 88, 89, 90, 91, 92, 93, 94, 95, 96, 97, 98, 99, 101, 106, 113, 114, 119, 121, 123, 126, 127, 133, 138, 142, 146, 149]\n",
      "\n",
      "\n"
     ]
    },
    {
     "data": {
      "image/png": "[encoded data removed]",
      "text/plain": [
       "<Figure size 432x288 with 1 Axes>"
      ]
     },
     "metadata": {
      "needs_background": "light"
     },
     "output_type": "display_data"
    },
    {
     "name": "stdout",
     "output_type": "stream",
     "text": [
      "\n",
      "Do you want to continue? (Yes/ No): No\n"
     ]
    }
   ],
   "source": [
    "cont = True\n",
    "print ('\\nDataset: Iris Flower\\n')\n",
    "while cont:\n",
    "  k = int(input(\"\\nEnter the number of clusters: \"))\n",
    "\n",
    "  if k>len(X):\n",
    "    print(\"The value of k cannot be greater than {}\".format(len(X)))\n",
    "    break\n",
    "\n",
    "  max_iter = int(input(\"Enter the maximum number of iterations: \")) \n",
    "  \n",
    "  kmeans_model = kmeans(k=k, iterations=max_iter, plot_clusters=True)\n",
    "  kmeans_model.predict(X)\n",
    "\n",
    "  temp = input(\"\\nDo you want to continue? (Yes/ No): \")\n",
    "\n",
    "  if temp.lower()=='no':\n",
    "    cont = False"
   ]
  }
 ],
 "metadata": {
  "colab": {
   "collapsed_sections": [],
   "name": "19BCP043_Assgn_9_k_means.ipynb",
   "provenance": []
  },
  "kernelspec": {
   "display_name": "Python 3",
   "language": "python",
   "name": "python3"
  },
  "language_info": {
   "codemirror_mode": {
    "name": "ipython",
    "version": 3
   },
   "file_extension": ".py",
   "mimetype": "text/x-python",
   "name": "python",
   "nbconvert_exporter": "python",
   "pygments_lexer": "ipython3",
   "version": "3.8.8"
  }
 },
 "nbformat": 4,
 "nbformat_minor": 1
}
