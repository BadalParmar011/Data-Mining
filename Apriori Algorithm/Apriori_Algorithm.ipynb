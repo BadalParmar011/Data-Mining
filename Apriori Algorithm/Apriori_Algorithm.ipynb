{
 "cells": [
  {
   "cell_type": "markdown",
   "metadata": {
    "id": "jLTDDGI6H53b"
   },
   "source": [
    "## **Apriori-Algorithm**\n",
    "\n",
    "### **Author: Badal Parmar**"
   ]
  },
  {
   "cell_type": "code",
   "execution_count": null,
   "metadata": {
    "colab": {
     "base_uri": "https://localhost:8080/"
    },
    "id": "WDSddY0Glqh0",
    "outputId": "d3a50de1-243c-4250-eb81-413e622933ff"
   },
   "outputs": [
    {
     "name": "stdout",
     "output_type": "stream",
     "text": [
      "Enter Minimum Support: 2\n"
     ]
    }
   ],
   "source": [
    "import numpy as np\n",
    "\n",
    "def load_transactions(path, order):\n",
    "  Transactions = []\n",
    "  with open(path, 'r') as fid:\n",
    "    for lines in fid:\n",
    "      str_line = list(lines.strip().split(','))\n",
    "      t = list(np.unique(str_line))\n",
    "      t.sort(key = lambda x: order.index(x))\n",
    "      Transactions.append(t)\n",
    "\n",
    "  return Transactions\n",
    "\n",
    "\n",
    "path = \"/content/DATASET\"\n",
    "order = ['I' + str(i) for i in range(1,6)]\n",
    "\n",
    "Transactions = load_transactions(path, order)\n",
    "\n",
    "discarded = {itemset_size : []}\n",
    "min_support = int(input(\"Enter Minimum Support: \"))\n",
    "mn = min_support\n",
    "min_support /= len(Transactions)"
   ]
  },
  {
   "cell_type": "code",
   "execution_count": null,
   "metadata": {
    "id": "2833R_V4lyhs"
   },
   "outputs": [],
   "source": [
    "C = {}\n",
    "L = {}\n",
    "\n",
    "itemset_size = 1\n",
    "C.update({itemset_size : [ [f] for f in order]})"
   ]
  },
  {
   "cell_type": "code",
   "execution_count": null,
   "metadata": {
    "id": "8Mzun3iUl8mg"
   },
   "outputs": [],
   "source": [
    "def count_occurences(itemset, Transactions):\n",
    "  count = 0\n",
    "\n",
    "  for i in range(len(Transactions)):\n",
    "    if set(itemset).issubset(set(Transactions[i])):\n",
    "      count += 1\n",
    "  \n",
    "  return count"
   ]
  },
  {
   "cell_type": "code",
   "execution_count": null,
   "metadata": {
    "id": "muMxCqIGl9_7"
   },
   "outputs": [],
   "source": [
    "def print_table(T, supp_count):\n",
    "  print(\"Itemset | Sup. count\")\n",
    "  for k in range(len(T)):\n",
    "    print(\"{}  :  {}\".format(T[k], supp_count[k]))\n",
    "  print(\"\\n\\n\")"
   ]
  },
  {
   "cell_type": "code",
   "execution_count": null,
   "metadata": {
    "id": "DvzuwR8Bl_Lu"
   },
   "outputs": [],
   "source": [
    "def get_frequent(itemsets, Transactions, min_support, prev_discarded):\n",
    "  L = []\n",
    "  supp_count = []\n",
    "  new_discarded = []\n",
    "\n",
    "  k = len(prev_discarded.keys())\n",
    "\n",
    "  for s in range(len(itemsets)):\n",
    "    discarded_before = False\n",
    "\n",
    "    if k > 0:\n",
    "      for it in prev_discarded[k]:\n",
    "        if set(it).issubset(set(itemsets[s])):\n",
    "          discarded_before = True\n",
    "          break\n",
    "          \n",
    "\n",
    "    if not discarded_before:\n",
    "      count = count_occurences(itemsets[s], Transactions)\n",
    "      if count/len(Transactions) >= min_support:\n",
    "        L.append(itemsets[s])\n",
    "        supp_count.append(count)\n",
    "      else:\n",
    "        new_discarded.append(itemsets[s])\n",
    "\n",
    "  return L, supp_count, new_discarded"
   ]
  },
  {
   "cell_type": "code",
   "execution_count": null,
   "metadata": {
    "id": "SXakO_swmAm_"
   },
   "outputs": [],
   "source": [
    "def join_two_itemsets(it1, it2, order):\n",
    "  it1.sort(key=lambda x : order.index(x))\n",
    "  it2.sort(key=lambda x : order.index(x))\n",
    "\n",
    "  for i in range(len(it1) - 1):\n",
    "    if it1[i] != it2[i]:\n",
    "      return []\n",
    "\n",
    "  if order.index(it1[-1]) < order.index(it2[-1]):\n",
    "    return it1 + [it2[-1]]\n",
    "\n",
    "  return []"
   ]
  },
  {
   "cell_type": "code",
   "execution_count": null,
   "metadata": {
    "id": "CSIQIizJmB6e"
   },
   "outputs": [],
   "source": [
    "def join_set_itemsets(set_of_its, order):\n",
    "  C = []\n",
    "\n",
    "  for i in range(len(set_of_its)):\n",
    "    for j in range(i+1, len(set_of_its)):\n",
    "      it_out = join_two_itemsets(set_of_its[i], set_of_its[j], order)\n",
    "\n",
    "      if len(it_out) > 0:\n",
    "        C.append(it_out)\n",
    "  return C"
   ]
  },
  {
   "cell_type": "code",
   "execution_count": null,
   "metadata": {
    "id": "2kzoBIs3mDaV"
   },
   "outputs": [],
   "source": [
    "supp_count_L = {}\n",
    "\n",
    "f, sup, new_discarded = get_frequent(C[itemset_size], Transactions, min_support, discarded)\n",
    "\n",
    "discarded.update({itemset_size : new_discarded})\n",
    "L.update({itemset_size : f})\n",
    "supp_count_L.update({itemset_size : sup})\n"
   ]
  },
  {
   "cell_type": "code",
   "execution_count": null,
   "metadata": {
    "colab": {
     "base_uri": "https://localhost:8080/"
    },
    "id": "wENq6mRDmErX",
    "outputId": "67e32d5c-4f8a-46f7-800e-a264fb2b8fb7"
   },
   "outputs": [
    {
     "name": "stdout",
     "output_type": "stream",
     "text": [
      "Minimum support considered =  2 \n",
      "\n",
      "For k = 1,\n",
      "C1 = \n",
      "Itemset | Sup. count\n",
      "['I1']  :  6\n",
      "['I2']  :  7\n",
      "['I3']  :  6\n",
      "['I4']  :  2\n",
      "['I5']  :  2\n",
      "\n",
      "\n",
      "\n",
      "L1 = \n",
      "Itemset | Sup. count\n",
      "['I1']  :  6\n",
      "['I2']  :  7\n",
      "['I3']  :  6\n",
      "['I4']  :  2\n",
      "['I5']  :  2\n",
      "\n",
      "\n",
      "\n",
      "For k = 2,\n",
      "C2 = \n",
      "Itemset | Sup. count\n",
      "['I1', 'I2']  :  4\n",
      "['I1', 'I3']  :  4\n",
      "['I1', 'I4']  :  1\n",
      "['I1', 'I5']  :  2\n",
      "['I2', 'I3']  :  4\n",
      "['I2', 'I4']  :  2\n",
      "['I2', 'I5']  :  2\n",
      "['I3', 'I4']  :  0\n",
      "['I3', 'I5']  :  1\n",
      "['I4', 'I5']  :  0\n",
      "\n",
      "\n",
      "\n",
      "L2 = \n",
      "Itemset | Sup. count\n",
      "['I1', 'I2']  :  4\n",
      "['I1', 'I3']  :  4\n",
      "['I1', 'I5']  :  2\n",
      "['I2', 'I3']  :  4\n",
      "['I2', 'I4']  :  2\n",
      "['I2', 'I5']  :  2\n",
      "\n",
      "\n",
      "\n",
      "For k = 3,\n",
      "C3 = \n",
      "Itemset | Sup. count\n",
      "['I1', 'I2', 'I3']  :  2\n",
      "['I1', 'I2', 'I5']  :  2\n",
      "['I1', 'I3', 'I5']  :  1\n",
      "['I2', 'I3', 'I4']  :  0\n",
      "['I2', 'I3', 'I5']  :  1\n",
      "['I2', 'I4', 'I5']  :  0\n",
      "\n",
      "\n",
      "\n",
      "L3 = \n",
      "Itemset | Sup. count\n",
      "['I1', 'I2', 'I3']  :  2\n",
      "['I1', 'I2', 'I5']  :  2\n",
      "\n",
      "\n",
      "\n",
      "For k = 4,\n",
      "C4 = \n",
      "Itemset | Sup. count\n",
      "['I1', 'I2', 'I3', 'I5']  :  1\n",
      "\n",
      "\n",
      "\n",
      "Algorithm is terminated because\n",
      "L4 is empty\n",
      "\n",
      "The final frequent itemsets with their support counts are: \n",
      "L3 = \n",
      "Itemset | Sup. count\n",
      "['I1', 'I2', 'I3']  :  2\n",
      "['I1', 'I2', 'I5']  :  2\n",
      "\n",
      "\n",
      "\n"
     ]
    }
   ],
   "source": [
    "print(\"Minimum support considered = \", mn,\"\\n\")\n",
    "\n",
    "print(\"For k = {},\".format(itemset_size))\n",
    "print(\"C{} = \".format(itemset_size))\n",
    "print_table(C[itemset_size], [count_occurences(it, Transactions) for it in C[itemset_size]])\n",
    "\n",
    "print(\"L{} = \".format(itemset_size))\n",
    "print_table(L[1], supp_count_L[1])\n",
    "\n",
    "k = itemset_size + 1\n",
    "convergence = False\n",
    "final = 0\n",
    "\n",
    "while not convergence:\n",
    "  C.update({k : join_set_itemsets(L[k-1], order)})\n",
    "  print(\"For k = {},\".format(k))\n",
    "\n",
    "  print(\"C{} = \".format(k))\n",
    "  print_table(C[k], [count_occurences(it, Transactions) for it in C[k]])\n",
    "  \n",
    "\n",
    "  f, sup, new_discarded = get_frequent(C[k], Transactions, min_support, discarded)\n",
    "  discarded.update({k : new_discarded})\n",
    "  L.update({k : f})\n",
    "  supp_count_L.update({k : sup})\n",
    "\n",
    "  if len(L[k]) == 0:\n",
    "    print(\"Algorithm is terminated because\")\n",
    "    print(\"L{} is empty\\n\".format(k))\n",
    "    final = k - 1\n",
    "    convergence = True\n",
    "  else:\n",
    "    print(\"L{} = \".format(k))\n",
    "    print_table(L[k], supp_count_L[k])\n",
    "\n",
    "  k += 1\n",
    "\n",
    "print(\"The final frequent itemsets with their support counts are: \")\n",
    "print(\"L{} = \".format(final))\n",
    "print_table(L[final], supp_count_L[final])"
   ]
  },
  {
   "cell_type": "code",
   "execution_count": null,
   "metadata": {
    "id": "Bkx8WrYenIgt"
   },
   "outputs": [],
   "source": []
  }
 ],
 "metadata": {
  "colab": {
   "name": "<18BCP011>-Assgn-5-Apriori-Algorithm.ipynb",
   "provenance": []
  },
  "kernelspec": {
   "display_name": "Python 3",
   "language": "python",
   "name": "python3"
  },
  "language_info": {
   "codemirror_mode": {
    "name": "ipython",
    "version": 3
   },
   "file_extension": ".py",
   "mimetype": "text/x-python",
   "name": "python",
   "nbconvert_exporter": "python",
   "pygments_lexer": "ipython3",
   "version": "3.8.8"
  }
 },
 "nbformat": 4,
 "nbformat_minor": 1
}
