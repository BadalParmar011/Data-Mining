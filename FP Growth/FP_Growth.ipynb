{
 "cells": [
  {
   "cell_type": "markdown",
   "metadata": {
    "id": "5HZtkfMdZ8Tf"
   },
   "source": [
    "## **FP Growth**\n",
    "\n",
    "### *   **Badal Parmar**"
   ]
  },
  {
   "cell_type": "code",
   "execution_count": null,
   "metadata": {
    "id": "ZD0I4JT0I9CC"
   },
   "outputs": [],
   "source": [
    "#Badal Parmar\n",
    "\n",
    "class treeNode:\n",
    "  \n",
    "  def __init__(me, nameV1, numbO, parentN1):  # constructor\n",
    "    me.name = nameV1\n",
    "    me.count = numbO\n",
    "    me.nodeLink = None\n",
    "    me.parent = parentN1\n",
    "    me.children = {}\n",
    "\n",
    "  def inc(me, numbO): # will increment count\n",
    "    me.count += numbO\n",
    "\n",
    "  def display(me, ind = 1): # to display tree\n",
    "    print (' | '*ind,'|' ,me.name, ':', me.count)\n",
    "    for child in me.children.values():\n",
    "      child.display(ind + 1)"
   ]
  },
  {
   "cell_type": "code",
   "execution_count": null,
   "metadata": {
    "id": "UZCJZ2NTmuzU"
   },
   "outputs": [],
   "source": [
    "def createTree(dataset): # will create tree\n",
    "  headerTable = {}\n",
    "\n",
    "  for trans in dataset:\n",
    "    for item in trans:\n",
    "      headerTable[item] = headerTable.get(item, 0) + dataset[trans]\n",
    "\n",
    "  freqItemset = set(headerTable.keys())\n",
    "\n",
    "  if len(freqItemset) == 0:\n",
    "    return None, None\n",
    "  \n",
    "  for k in headerTable:\n",
    "    headerTable[k] = [headerTable[k], None]\n",
    "\n",
    "  retTree = treeNode('NULL', 1, None)\n",
    "\n",
    "  for tranSet, count in dataset.items():\n",
    "    localD = {}\n",
    "    for item in tranSet:\n",
    "      if item in freqItemset:\n",
    "        localD[item] = headerTable[item][0]\n",
    "\n",
    "    if len(localD) > 0:\n",
    "      orderedItems = [v[0] for v in sorted(localD.items(), key=lambda p: p[1], reverse=True)]\n",
    "      updateTree(orderedItems, retTree, headerTable, count)\n",
    "\n",
    "  return retTree, headerTable "
   ]
  },
  {
   "cell_type": "code",
   "execution_count": null,
   "metadata": {
    "id": "iBwk9zL0ZY6P"
   },
   "outputs": [],
   "source": [
    "def updateHeader(node, target): # will update headers\n",
    "  while(node.nodeLink != None):\n",
    "    node = node.nodeLink\n",
    "  node.nodeLink = target"
   ]
  },
  {
   "cell_type": "code",
   "execution_count": null,
   "metadata": {
    "id": "PbL21bGmZhLa"
   },
   "outputs": [],
   "source": [
    "def updateTree(items, inTree, headerTable, count): # will update tree\n",
    "\n",
    "  if items[0] in inTree.children:\n",
    "    inTree.children[items[0]].inc(count)\n",
    "  else:\n",
    "    inTree.children[items[0]] = treeNode(items[0], count, inTree)\n",
    "\n",
    "\n",
    "    if headerTable[items[0]][1] == None:\n",
    "      headerTable[items[0]][1] = inTree.children[items[0]]\n",
    "      \n",
    "    else:\n",
    "      updateHeader(headerTable[items[0]][1], inTree.children[items[0]])\n",
    "\n",
    "  if len(items) > 1:\n",
    "    updateTree(items[1::], inTree.children[items[0]], headerTable, count)"
   ]
  },
  {
   "cell_type": "code",
   "execution_count": null,
   "metadata": {
    "id": "caoQ5jPHZjNE"
   },
   "outputs": [],
   "source": [
    "def ascendTree(leaf, raw): # will ascend tree\n",
    "  if leaf.parent != None:\n",
    "    raw.append(leaf.name)\n",
    "    ascendTree(leaf.parent, raw)"
   ]
  },
  {
   "cell_type": "code",
   "execution_count": null,
   "metadata": {
    "id": "l6oKhqlsZlN1"
   },
   "outputs": [],
   "source": [
    "data = [\n",
    "    ['I1','I2','I5'],\n",
    "    ['I2','I4'],\n",
    "    ['I2','I3'],\n",
    "    ['I1','I2','I4'],\n",
    "    ['I1','I3'],\n",
    "    ['I2','I3'],\n",
    "    ['I1','I3'],\n",
    "    ['I1','I2','I3','I5'],\n",
    "    ['I1','I2','I3']\n",
    "]\n",
    "\n",
    "dic = {}\n",
    "\n",
    "for d in data:\n",
    "  tup = tuple(d)\n",
    "  dic[tup] = 0\n",
    "\n",
    "for d in data:\n",
    "  tup = tuple(d)\n",
    "\n",
    "  if dic[tup] >= 1:\n",
    "    dic[tup] += 1\n",
    "  else:\n",
    "    dic[tup] = 1\n",
    "  \n",
    "ordered = {}\n",
    "\n",
    "for i in data:\n",
    "  for j in i:\n",
    "    ordered[j] = 0\n",
    "\n",
    "for i in data:\n",
    "  for j in i:\n",
    "    if ordered[j] >= 1:\n",
    "      ordered[j] += 1\n",
    "    else:\n",
    "      ordered[j] = 1\n",
    "\n",
    "ordered = dict(sorted(ordered.items(), key = lambda item: (item[1],item[0]), reverse = True))\n",
    "order = list(ordered.keys())"
   ]
  },
  {
   "cell_type": "code",
   "execution_count": null,
   "metadata": {
    "id": "3f3D7rjBZneF"
   },
   "outputs": [],
   "source": [
    "def conditionalBase(base, treeNode): # to find conditional base\n",
    "  cond = {}\n",
    "\n",
    "  while treeNode != None:\n",
    "    path = []\n",
    "    ascendTree(treeNode, path)\n",
    "\n",
    "    if len(path) > 1:\n",
    "      temp = path[1:]\n",
    "      temp.sort(key = lambda x: order.index(x), reverse = True)\n",
    "      cond[tuple(temp)] = treeNode.count\n",
    "    treeNode = treeNode.nodeLink\n",
    "  return cond"
   ]
  },
  {
   "cell_type": "code",
   "execution_count": null,
   "metadata": {
    "colab": {
     "base_uri": "https://localhost:8080/"
    },
    "id": "Kq2i5PH9ZpQT",
    "outputId": "97c183d3-732f-454e-aa5f-67842d4f14f1"
   },
   "outputs": [
    {
     "name": "stdout",
     "output_type": "stream",
     "text": [
      "-> FP Growth Tree:\n",
      "\n",
      " |  | NULL : 1\n",
      " |  |  | I2 : 7\n",
      " |  |  |  | I1 : 4\n",
      " |  |  |  |  | I5 : 1\n",
      " |  |  |  |  | I4 : 1\n",
      " |  |  |  |  | I3 : 2\n",
      " |  |  |  |  |  | I5 : 1\n",
      " |  |  |  | I4 : 1\n",
      " |  |  |  | I3 : 2\n",
      " |  |  | I1 : 2\n",
      " |  |  |  | I3 : 2\n",
      "\n",
      "-> Conditional Pattern Base:\n",
      "\n",
      "I4  |  {('I2',): 1, ('I2', 'I1'): 1}\n",
      "----|--------------------------------------------\n",
      "I5  |  {('I2', 'I1'): 1, ('I2', 'I3', 'I1'): 1}\n",
      "----|--------------------------------------------\n",
      "I1  |  {('I2',): 4}\n",
      "----|--------------------------------------------\n",
      "I3  |  {('I2',): 2, ('I1',): 2, ('I2', 'I1'): 2}\n",
      "----|--------------------------------------------\n",
      "I2  |  {}\n",
      "----|--------------------------------------------\n"
     ]
    }
   ],
   "source": [
    "rev_order = order\n",
    "rev_order.reverse()\n",
    "\n",
    "print(\"-> FP Growth Tree:\\n\")\n",
    "FPtree, headertab = createTree(dic)\n",
    "FPtree.display()\n",
    "print()\n",
    "\n",
    "print(\"-> Conditional Pattern Base:\\n\")\n",
    "\n",
    "for rev in rev_order:\n",
    "  print(rev,\" | \",conditionalBase(rev, headertab[rev][1]))\n",
    "  print('----|--------------------------------------------')\n"
   ]
  },
  {
   "cell_type": "code",
   "execution_count": null,
   "metadata": {
    "id": "sJqME6w3Zqqu"
   },
   "outputs": [],
   "source": []
  }
 ],
 "metadata": {
  "colab": {
   "name": "<18BCP011>-Assgn-7-FP-Growth.ipynb",
   "provenance": []
  },
  "kernelspec": {
   "display_name": "Python 3",
   "language": "python",
   "name": "python3"
  },
  "language_info": {
   "codemirror_mode": {
    "name": "ipython",
    "version": 3
   },
   "file_extension": ".py",
   "mimetype": "text/x-python",
   "name": "python",
   "nbconvert_exporter": "python",
   "pygments_lexer": "ipython3",
   "version": "3.8.8"
  }
 },
 "nbformat": 4,
 "nbformat_minor": 1
}
