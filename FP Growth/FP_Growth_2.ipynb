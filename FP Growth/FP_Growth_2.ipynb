{
 "cells": [
  {
   "cell_type": "markdown",
   "metadata": {
    "id": "JCp5wGZLEYm9"
   },
   "source": [
    "## **FP Growth-2**\n",
    "\n",
    "### *   **Badal Parmar**"
   ]
  },
  {
   "cell_type": "code",
   "execution_count": null,
   "metadata": {
    "id": "i6h5NCFnD1Pb"
   },
   "outputs": [],
   "source": [
    "import numpy as np\n",
    "from collections import defaultdict\n",
    "from itertools import chain, combinations"
   ]
  },
  {
   "cell_type": "code",
   "execution_count": null,
   "metadata": {
    "id": "Bnfxz0BOD1ic"
   },
   "outputs": [],
   "source": [
    "datas = {\n",
    "    'T100':['I1','I2','I5'],\n",
    "    'T200':['I2','I4'],\n",
    "    'T300':['I2','I3'],\n",
    "    'T400':['I1','I2','I4'],\n",
    "    'T500':['I1','I3'],\n",
    "    'T600':['I2','I3'],\n",
    "    'T700':['I1','I3'],\n",
    "    'T800':['I1','I2','I3','I5'],\n",
    "    'T900':['I1','I2','I3'],\n",
    "}\n",
    "\n",
    "class Node:\n",
    "    def __init__(self, itemName, frequency, parentNode):\n",
    "        self.itemName = itemName\n",
    "        self.count = frequency\n",
    "        self.parent = parentNode\n",
    "        self.children = {}\n",
    "        self.next = None\n",
    "\n",
    "    def increment(self, frequency):\n",
    "        self.count += frequency\n",
    "\n",
    "    def display(self, ind=1):\n",
    "        print('  ' * ind, self.itemName, ' ', self.count)\n",
    "        for child in list(self.children.values()):\n",
    "            child.display(ind+1)\n",
    "\n",
    "\n",
    "\n",
    "order = ['I' + str(i) for i in range(1, 6)]\n",
    "\n",
    "def getFromFile():\n",
    "  itemSetList=[]\n",
    "  frequency=[]\n",
    "  for keys in datas.keys():\n",
    "    unique_datas = list(np.unique(datas[keys]))\n",
    "    unique_datas.sort(key=lambda x: order.index(x))\n",
    "    itemSetList.append(unique_datas)\n",
    "    frequency.append(1)\n",
    "  return itemSetList,frequency"
   ]
  },
  {
   "cell_type": "code",
   "execution_count": null,
   "metadata": {
    "id": "ARljziVPD3E9"
   },
   "outputs": [],
   "source": [
    "def constructTree(itemSetList, frequency, minSup):\n",
    "    headerTable = defaultdict(int)\n",
    "    # Counting frequency and create header table\n",
    "    for idx, itemSet in enumerate(itemSetList):\n",
    "        for item in itemSet:\n",
    "            headerTable[item] += frequency[idx]\n",
    "\n",
    "    \n",
    "\n",
    "    # Deleting items below minSup\n",
    "    headerTable = dict((item, sup) for item, sup in headerTable.items() if sup >= minSup)\n",
    "    # print(headerTable)\n",
    "    if(len(headerTable) == 0):\n",
    "        return None, None\n",
    "\n",
    "    # HeaderTable column [Item: [frequency, headNode]]\n",
    "    for item in headerTable:\n",
    "        headerTable[item] = [headerTable[item], None]\n",
    "\n",
    "    # Init Null head node\n",
    "    fpTree = Node('Null', 1, None)\n",
    "    # Update FP tree for each cleaned and sorted itemSet\n",
    "    for idx, itemSet in enumerate(itemSetList):\n",
    "        itemSet = [item for item in itemSet if item in headerTable]\n",
    "        itemSet.sort(key=lambda item: headerTable[item][0], reverse=True)\n",
    "        # Traverse from root to leaf, update tree with given item\n",
    "        currentNode = fpTree\n",
    "        for item in itemSet:\n",
    "            currentNode = updateTree(item, currentNode, headerTable, frequency[idx])\n",
    "\n",
    "    return fpTree, headerTable\n",
    "\n",
    "def updateTree(item, treeNode, headerTable, frequency):\n",
    "    if item in treeNode.children:\n",
    "        # If the item already exists, increment the count\n",
    "        treeNode.children[item].increment(frequency)\n",
    "    else:\n",
    "        # Create a new branch\n",
    "        newItemNode = Node(item, frequency, treeNode)\n",
    "        treeNode.children[item] = newItemNode\n",
    "        # Link the new branch to header table\n",
    "        updateHeaderTable(item, newItemNode, headerTable)\n",
    "\n",
    "    return treeNode.children[item]\n",
    "\n",
    "def updateHeaderTable(item, targetNode, headerTable):\n",
    "    if(headerTable[item][1] == None):\n",
    "        headerTable[item][1] = targetNode\n",
    "    else:\n",
    "        currentNode = headerTable[item][1]\n",
    "        # Traverse to the last node then link it to the target\n",
    "        while currentNode.next != None:\n",
    "            currentNode = currentNode.next\n",
    "        currentNode.next = targetNode\n",
    "\n",
    "def newTree(itemSetList, frequency, minSup):\n",
    "    headerTable = defaultdict(int)\n",
    "    # Counting frequency and create header table\n",
    "    for idx, itemSet in enumerate(itemSetList):\n",
    "        for item in itemSet:\n",
    "            headerTable[item] += frequency[idx]\n",
    "\n",
    "    \n",
    "\n",
    "    # Deleting items below minSup\n",
    "    headerTable = dict((item, sup) for item, sup in headerTable.items() if sup > minSup)\n",
    "    # print(headerTable)\n",
    "    if(len(headerTable) == 0):\n",
    "        return None, None\n",
    "\n",
    "    # HeaderTable column [Item: [frequency, headNode]]\n",
    "    for item in headerTable:\n",
    "        headerTable[item] = [headerTable[item], None]\n",
    "\n",
    "    # Init Null head node\n",
    "    fpTree = Node('Null', 1, None)\n",
    "    # Update FP tree for each cleaned and sorted itemSet\n",
    "    for idx, itemSet in enumerate(itemSetList):\n",
    "        itemSet = [item for item in itemSet if item in headerTable]\n",
    "        itemSet.sort(key=lambda item: headerTable[item][0], reverse=True)\n",
    "        # Traverse from root to leaf, update tree with given item\n",
    "        currentNode = fpTree\n",
    "        for item in itemSet:\n",
    "            currentNode = updateTree(item, currentNode, headerTable, frequency[idx])\n",
    "\n",
    "    return fpTree, headerTable"
   ]
  },
  {
   "cell_type": "code",
   "execution_count": null,
   "metadata": {
    "id": "dvqDlcnoD4k6"
   },
   "outputs": [],
   "source": [
    "def mineTree(headerTable, minSup, preFix, freqItemList):\n",
    "    # Sort the items with frequency and create a list\n",
    "    sortedItemList = [item[0] for item in sorted(list(headerTable.items()), key=lambda p:p[1][0])] \n",
    "    # Start with the lowest frequency\n",
    "    for item in sortedItemList:  \n",
    "        # Pattern growth is achieved by the concatenation of suffix pattern with frequent patterns generated from conditional FP-tree\n",
    "        newFreqSet = preFix.copy()\n",
    "        newFreqSet.add(item)\n",
    "        freqItemList.append(newFreqSet)\n",
    "        # Find all prefix path, constrcut conditional pattern base\n",
    "        conditionalPattBase, frequency = findPrefixPath(item, headerTable) \n",
    "        if len(conditionalPattBase)>0:\n",
    "          print(f\"{conditionalPattBase} => {frequency}\")\n",
    "        \n",
    "        # Construct conditonal FP Tree with conditional pattern base\n",
    "        conditionalTree, newHeaderTable = constructTree(conditionalPattBase, frequency, minSup) \n",
    "        if newHeaderTable != None:\n",
    "            # Mining recursively on the tree\n",
    "            mineTree(newHeaderTable, minSup,\n",
    "                       newFreqSet, freqItemList)\n",
    "\n",
    "def findPrefixPath(basePat, headerTable):\n",
    "    # First node in linked list\n",
    "    treeNode = headerTable[basePat][1] \n",
    "    condPats = []\n",
    "    frequency = []\n",
    "    while treeNode != None:\n",
    "        prefixPath = []\n",
    "        # From leaf node all the way to root\n",
    "        ascendFPtree(treeNode, prefixPath)  \n",
    "        if len(prefixPath) > 1:\n",
    "            # Storing the prefix path and it's corresponding count\n",
    "            condPats.append(prefixPath[1:])\n",
    "            frequency.append(treeNode.count)\n",
    "\n",
    "        # Go to next node\n",
    "        treeNode = treeNode.next  \n",
    "    return condPats, frequency\n",
    "\n",
    "def ascendFPtree(node, prefixPath):\n",
    "    if node.parent != None:\n",
    "        prefixPath.append(node.itemName)\n",
    "        ascendFPtree(node.parent, prefixPath)"
   ]
  },
  {
   "cell_type": "code",
   "execution_count": null,
   "metadata": {
    "id": "VUYdAxV7D8kH"
   },
   "outputs": [],
   "source": [
    "def powerset(s):\n",
    "    return chain.from_iterable(combinations(s, r) for r in range(1, len(s)))\n",
    "\n",
    "def getSupport(testSet, itemSetList):\n",
    "    count = 0\n",
    "    for itemSet in itemSetList:\n",
    "        if(set(testSet).issubset(itemSet)):\n",
    "            count += 1\n",
    "    return count\n",
    "\n",
    "def tentitiveRule(freqItemSet, itemSetList, minConf):\n",
    "    rules = []\n",
    "    for itemSet in freqItemSet:\n",
    "        subsets = powerset(itemSet)\n",
    "        itemSetSup = getSupport(itemSet, itemSetList)\n",
    "        for s in subsets:\n",
    "              confidence = float(itemSetSup / getSupport(s, itemSetList))\n",
    "              rules.append([set(s), set(itemSet.difference(s)), confidence])\n",
    "    return rules\n",
    "\n",
    "def associationRule(freqItemSet, itemSetList, minConf):\n",
    "    rules = []\n",
    "    for itemSet in freqItemSet:\n",
    "        subsets = powerset(itemSet)\n",
    "        itemSetSup = getSupport(itemSet, itemSetList)\n",
    "        for s in subsets:\n",
    "            confidence = float(itemSetSup / getSupport(s, itemSetList))*100\n",
    "            if(confidence > ((minConf)*100)):\n",
    "                rules.append([set(s), set(itemSet.difference(s)), confidence])\n",
    "    return rules"
   ]
  },
  {
   "cell_type": "code",
   "execution_count": null,
   "metadata": {
    "colab": {
     "base_uri": "https://localhost:8080/"
    },
    "id": "bhuOR8aIEACd",
    "outputId": "78a59989-066c-4b50-b697-7359728b02c6"
   },
   "outputs": [
    {
     "name": "stdout",
     "output_type": "stream",
     "text": [
      "Enter min Support: 2\n",
      "value of minimum support is 2.0\n",
      "Enter min Conf: 0.5\n",
      "value of minimum confidence is 0.5\n",
      "Conditional Pattern Base\n",
      "[['I1', 'I2'], ['I3', 'I1', 'I2']] => [1, 1]\n",
      "[['I1']] => [2]\n",
      "[['I2'], ['I1', 'I2']] => [1, 1]\n",
      "[['I2']] => [4]\n",
      "[['I2'], ['I1'], ['I1', 'I2']] => [2, 2, 2]\n",
      "[['I1']] => [2]\n",
      "\n",
      " FP Growth Tree is given below\n",
      "   Null   1\n",
      "     I2   7\n",
      "       I1   4\n",
      "         I5   1\n",
      "         I4   1\n",
      "         I3   2\n",
      "           I5   1\n",
      "       I4   1\n",
      "       I3   2\n",
      "     I1   2\n",
      "       I3   2\n"
     ]
    }
   ],
   "source": [
    "def fpgrowthFromFile(minSup, minConf):\n",
    "    itemSetList, frequency = getFromFile()\n",
    "    fpTree, headerTable = constructTree(itemSetList, frequency, minSup)\n",
    "    freqItems = []\n",
    "    print(\"Conditional Pattern Base\")\n",
    "    mineTree(headerTable, minSup, set(), freqItems)\n",
    "\n",
    "    print(\"\\n FP Growth Tree is given below\")\n",
    "    fpTree.display()\n",
    "\n",
    "    tentitive_rules = tentitiveRule(freqItems,itemSetList,minConf)\n",
    "    association_rules = associationRule(freqItems, itemSetList, minConf)\n",
    "    return freqItems, tentitive_rules,association_rules\n",
    "    # return freqItems\n",
    "\n",
    "minSup=float(input(\"Enter min Support: \"))\n",
    "print(\"value of minimum support is\",minSup)\n",
    "\n",
    "minConf=float(input(\"Enter min Conf: \"))\n",
    "print(\"value of minimum confidence is\",minConf)\n",
    "\n",
    "freqItems, tentitive_rules, association_rules=fpgrowthFromFile(minSup,minConf)"
   ]
  },
  {
   "cell_type": "code",
   "execution_count": null,
   "metadata": {
    "colab": {
     "base_uri": "https://localhost:8080/"
    },
    "id": "b3dJ7K-oEBnB",
    "outputId": "bbe3a279-46d6-4ee7-910f-12407b74d9b6"
   },
   "outputs": [
    {
     "name": "stdout",
     "output_type": "stream",
     "text": [
      "Conditional Pattern Base:\n",
      "[['I1', 'I2'], ['I3', 'I1', 'I2']] => [1, 1]\n",
      "[['I1']] => [2]\n",
      "[['I2'], ['I1', 'I2']] => [1, 1]\n",
      "[['I2']] => [4]\n",
      "[['I2'], ['I1'], ['I1', 'I2']] => [2, 2, 2]\n",
      "[['I1']] => [2]\n"
     ]
    }
   ],
   "source": [
    "def fpgrowthFromFile(minSup):\n",
    "    itemSetList, frequency = getFromFile()\n",
    "    fpTree, headerTable = constructTree(itemSetList, frequency, minSup)\n",
    "    #fpTree, headerTable = fpgrowthFromFile(minSup)\n",
    "    freqItems = []\n",
    "    print(\"Conditional Pattern Base:\")\n",
    "    mineTree(headerTable, minSup, set(), freqItems)\n",
    "    \n",
    "fpgrowthFromFile(2)"
   ]
  },
  {
   "cell_type": "code",
   "execution_count": null,
   "metadata": {
    "colab": {
     "base_uri": "https://localhost:8080/"
    },
    "id": "VwasSfaOEHpp",
    "outputId": "8111a4c9-2db5-4577-8551-337456dfae04"
   },
   "outputs": [
    {
     "name": "stdout",
     "output_type": "stream",
     "text": [
      "\n",
      "Freq Patters is given below\n",
      "{'I5'}\n",
      "{'I1', 'I5'}\n",
      "{'I2', 'I5'}\n",
      "{'I1', 'I2', 'I5'}\n",
      "{'I4'}\n",
      "{'I4', 'I2'}\n",
      "{'I1'}\n",
      "{'I2', 'I1'}\n",
      "{'I3'}\n",
      "{'I3', 'I2'}\n",
      "{'I3', 'I2', 'I1'}\n",
      "{'I3', 'I1'}\n",
      "{'I2'}\n"
     ]
    }
   ],
   "source": [
    "print(\"\\nFreq Patters is given below\")\n",
    "for item in freqItems:\n",
    "  print(item)"
   ]
  },
  {
   "cell_type": "code",
   "execution_count": null,
   "metadata": {
    "colab": {
     "base_uri": "https://localhost:8080/"
    },
    "id": "ZCI5ZgLOEJYk",
    "outputId": "4eae71b3-64e9-4c5b-f2b7-d34485c894eb"
   },
   "outputs": [
    {
     "name": "stdout",
     "output_type": "stream",
     "text": [
      "\n",
      "Tentitive rules are given below\n",
      "[{'I1'}, {'I5'}, 0.3333333333333333]\n",
      "[{'I5'}, {'I1'}, 1.0]\n",
      "[{'I2'}, {'I5'}, 0.2857142857142857]\n",
      "[{'I5'}, {'I2'}, 1.0]\n",
      "[{'I1'}, {'I2', 'I5'}, 0.3333333333333333]\n",
      "[{'I2'}, {'I5', 'I1'}, 0.2857142857142857]\n",
      "[{'I5'}, {'I2', 'I1'}, 1.0]\n",
      "[{'I2', 'I1'}, {'I5'}, 0.5]\n",
      "[{'I5', 'I1'}, {'I2'}, 1.0]\n",
      "[{'I2', 'I5'}, {'I1'}, 1.0]\n",
      "[{'I4'}, {'I2'}, 1.0]\n",
      "[{'I2'}, {'I4'}, 0.2857142857142857]\n",
      "[{'I2'}, {'I1'}, 0.5714285714285714]\n",
      "[{'I1'}, {'I2'}, 0.6666666666666666]\n",
      "[{'I3'}, {'I2'}, 0.6666666666666666]\n",
      "[{'I2'}, {'I3'}, 0.5714285714285714]\n",
      "[{'I3'}, {'I2', 'I1'}, 0.3333333333333333]\n",
      "[{'I2'}, {'I3', 'I1'}, 0.2857142857142857]\n",
      "[{'I1'}, {'I3', 'I2'}, 0.3333333333333333]\n",
      "[{'I3', 'I2'}, {'I1'}, 0.5]\n",
      "[{'I3', 'I1'}, {'I2'}, 0.5]\n",
      "[{'I2', 'I1'}, {'I3'}, 0.5]\n",
      "[{'I3'}, {'I1'}, 0.6666666666666666]\n",
      "[{'I1'}, {'I3'}, 0.6666666666666666]\n"
     ]
    }
   ],
   "source": [
    "print(\"\\nTentitive rules are given below\")\n",
    "for rule in tentitive_rules:\n",
    "  print(rule)"
   ]
  },
  {
   "cell_type": "code",
   "execution_count": null,
   "metadata": {
    "colab": {
     "base_uri": "https://localhost:8080/"
    },
    "id": "4GF6Mh_4ELNZ",
    "outputId": "07abd06f-1c8d-4891-935a-5ea8cc398121"
   },
   "outputs": [
    {
     "name": "stdout",
     "output_type": "stream",
     "text": [
      "\n",
      "Association Rules are given below\n",
      "[{'I5'}, {'I1'}, 100.0]\n",
      "[{'I5'}, {'I2'}, 100.0]\n",
      "[{'I5'}, {'I2', 'I1'}, 100.0]\n",
      "[{'I5', 'I1'}, {'I2'}, 100.0]\n",
      "[{'I2', 'I5'}, {'I1'}, 100.0]\n",
      "[{'I4'}, {'I2'}, 100.0]\n",
      "[{'I2'}, {'I1'}, 57.14285714285714]\n",
      "[{'I1'}, {'I2'}, 66.66666666666666]\n",
      "[{'I3'}, {'I2'}, 66.66666666666666]\n",
      "[{'I2'}, {'I3'}, 57.14285714285714]\n",
      "[{'I3'}, {'I1'}, 66.66666666666666]\n",
      "[{'I1'}, {'I3'}, 66.66666666666666]\n"
     ]
    }
   ],
   "source": [
    "print(\"\\nAssociation Rules are given below\")\n",
    "for rule in association_rules:\n",
    "  print(rule)"
   ]
  },
  {
   "cell_type": "code",
   "execution_count": null,
   "metadata": {
    "id": "TeKdqPFWEM4W"
   },
   "outputs": [],
   "source": []
  }
 ],
 "metadata": {
  "colab": {
   "name": "<18BCP011>-Assgn-8-FP-Growth-2.ipynb",
   "provenance": []
  },
  "kernelspec": {
   "display_name": "Python 3",
   "language": "python",
   "name": "python3"
  },
  "language_info": {
   "codemirror_mode": {
    "name": "ipython",
    "version": 3
   },
   "file_extension": ".py",
   "mimetype": "text/x-python",
   "name": "python",
   "nbconvert_exporter": "python",
   "pygments_lexer": "ipython3",
   "version": "3.8.8"
  }
 },
 "nbformat": 4,
 "nbformat_minor": 1
}
