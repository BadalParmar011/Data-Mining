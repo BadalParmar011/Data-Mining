{
 "cells": [
  {
   "cell_type": "markdown",
   "metadata": {
    "id": "OcGcd1-0TADj"
   },
   "source": [
    "# > **`Author: Badal Parmar`**\n",
    "\n",
    "# > **`Agglomerative Algorithm`**"
   ]
  },
  {
   "cell_type": "code",
   "execution_count": null,
   "metadata": {
    "id": "GCayab19U-DD"
   },
   "outputs": [],
   "source": [
    "import numpy as np\n",
    "import pandas as pd\n",
    "import warnings\n",
    "import pprint\n",
    "import scipy.cluster.hierarchy\n",
    "import matplotlib.pyplot as plt\n",
    "\n",
    "warnings.filterwarnings('ignore')\n",
    "warnings.warn('DelftStack')\n",
    "warnings.warn('Do not show this message')"
   ]
  },
  {
   "cell_type": "markdown",
   "metadata": {
    "id": "cmBFbSBRMhCy"
   },
   "source": [
    "## **`Loading the Dataset`**"
   ]
  },
  {
   "cell_type": "code",
   "execution_count": null,
   "metadata": {
    "colab": {
     "base_uri": "https://localhost:8080/",
     "height": 200
    },
    "id": "LrWU3AZpMgJ7",
    "outputId": "13fb404d-a0d7-4b06-c834-d89d01d0391e"
   },
   "outputs": [
    {
     "data": {
      "text/html": [
       "<div>\n",
       "<style scoped>\n",
       "    .dataframe tbody tr th:only-of-type {\n",
       "        vertical-align: middle;\n",
       "    }\n",
       "\n",
       "    .dataframe tbody tr th {\n",
       "        vertical-align: top;\n",
       "    }\n",
       "\n",
       "    .dataframe thead th {\n",
       "        text-align: right;\n",
       "    }\n",
       "</style>\n",
       "<table border=\"1\" class=\"dataframe\">\n",
       "  <thead>\n",
       "    <tr style=\"text-align: right;\">\n",
       "      <th></th>\n",
       "      <th>States</th>\n",
       "      <th>Murder</th>\n",
       "      <th>Assault</th>\n",
       "      <th>UrbanPop</th>\n",
       "      <th>Rape</th>\n",
       "    </tr>\n",
       "  </thead>\n",
       "  <tbody>\n",
       "    <tr>\n",
       "      <th>0</th>\n",
       "      <td>Alabama</td>\n",
       "      <td>13.2</td>\n",
       "      <td>236</td>\n",
       "      <td>58</td>\n",
       "      <td>21.2</td>\n",
       "    </tr>\n",
       "    <tr>\n",
       "      <th>1</th>\n",
       "      <td>Alaska</td>\n",
       "      <td>10.0</td>\n",
       "      <td>263</td>\n",
       "      <td>48</td>\n",
       "      <td>44.5</td>\n",
       "    </tr>\n",
       "    <tr>\n",
       "      <th>2</th>\n",
       "      <td>Arizona</td>\n",
       "      <td>8.1</td>\n",
       "      <td>294</td>\n",
       "      <td>80</td>\n",
       "      <td>31.0</td>\n",
       "    </tr>\n",
       "    <tr>\n",
       "      <th>3</th>\n",
       "      <td>Arkansas</td>\n",
       "      <td>8.8</td>\n",
       "      <td>190</td>\n",
       "      <td>50</td>\n",
       "      <td>19.5</td>\n",
       "    </tr>\n",
       "    <tr>\n",
       "      <th>4</th>\n",
       "      <td>California</td>\n",
       "      <td>9.0</td>\n",
       "      <td>276</td>\n",
       "      <td>91</td>\n",
       "      <td>40.6</td>\n",
       "    </tr>\n",
       "  </tbody>\n",
       "</table>\n",
       "</div>"
      ],
      "text/plain": [
       "       States  Murder  Assault  UrbanPop  Rape\n",
       "0     Alabama    13.2      236        58  21.2\n",
       "1      Alaska    10.0      263        48  44.5\n",
       "2     Arizona     8.1      294        80  31.0\n",
       "3    Arkansas     8.8      190        50  19.5\n",
       "4  California     9.0      276        91  40.6"
      ]
     },
     "execution_count": 67,
     "metadata": {},
     "output_type": "execute_result"
    }
   ],
   "source": [
    "dataset = pd.read_csv('USArrests.csv')\n",
    "dataset_copy = pd.read_csv('USArrests.csv')\n",
    "dataset_copy.drop(columns=['States'], inplace=True)\n",
    "dataset.head()"
   ]
  },
  {
   "cell_type": "code",
   "execution_count": null,
   "metadata": {
    "colab": {
     "base_uri": "https://localhost:8080/"
    },
    "id": "ajBsUJ-NM4hF",
    "outputId": "af07ec27-9392-4bf4-a212-ded6bfa16210"
   },
   "outputs": [
    {
     "name": "stdout",
     "output_type": "stream",
     "text": [
      "<class 'pandas.core.frame.DataFrame'>\n",
      "RangeIndex: 50 entries, 0 to 49\n",
      "Data columns (total 5 columns):\n",
      " #   Column    Non-Null Count  Dtype  \n",
      "---  ------    --------------  -----  \n",
      " 0   States    50 non-null     object \n",
      " 1   Murder    50 non-null     float64\n",
      " 2   Assault   50 non-null     int64  \n",
      " 3   UrbanPop  50 non-null     int64  \n",
      " 4   Rape      50 non-null     float64\n",
      "dtypes: float64(2), int64(2), object(1)\n",
      "memory usage: 2.1+ KB\n"
     ]
    }
   ],
   "source": [
    "usarrests.info()"
   ]
  },
  {
   "cell_type": "code",
   "execution_count": null,
   "metadata": {
    "id": "0yab-OAPM6Zo"
   },
   "outputs": [],
   "source": [
    "def euclideanDistance(point1, point2):\n",
    "  return (np.sum((np.array(point1[1:]).astype('float')-np.array(point2[1:]).astype('float'))**2)**(0.5))"
   ]
  },
  {
   "cell_type": "code",
   "execution_count": null,
   "metadata": {
    "id": "15VeakVYM7pa"
   },
   "outputs": [],
   "source": [
    "def transformation(cluster, clusterTranformed):\n",
    "  for i in cluster:\n",
    "    if type(i) == np.str_ or type(i) == float or type(i) == int or type(i) == str:\n",
    "      clusterTranformed.append(cluster)\n",
    "      break\n",
    "    clusterTranformed = transformation(i, clusterTranformed)\n",
    "  return clusterTranformed    "
   ]
  },
  {
   "cell_type": "code",
   "execution_count": null,
   "metadata": {
    "id": "FnPeCjXoOlXH"
   },
   "outputs": [],
   "source": [
    "def minimumDistance(cluster1, cluster2):\n",
    "  cluster1Transformed = transformation(cluster1, [])\n",
    "  cluster2Transformed = transformation(cluster2, [])\n",
    "  distances = [[abs(euclideanDistance(point1, point2)) for point2 in cluster2Transformed] for point1 in cluster1Transformed]\n",
    "  minDist = distances[0][0]\n",
    "  for i in distances:\n",
    "    for j in i:\n",
    "      if minDist > j:\n",
    "        minDist = j\n",
    "  return minDist"
   ]
  },
  {
   "cell_type": "code",
   "execution_count": null,
   "metadata": {
    "id": "waTIaufNQvUY"
   },
   "outputs": [],
   "source": [
    "def maximumDistance(cluster1, cluster2):\n",
    "  cluster1Transformed = transformation(cluster1, [])\n",
    "  cluster2Transformed = transformation(cluster2, [])\n",
    "  distances = [[abs(euclideanDistance(point1, point2)) for point2 in cluster2Transformed] for point1 in cluster1Transformed]\n",
    "  maxDist = distances[0][0]\n",
    "  for i in distances:\n",
    "    for j in i:\n",
    "      if maxDist < j:\n",
    "        maxDist = j\n",
    "  return maxDist"
   ]
  },
  {
   "cell_type": "code",
   "execution_count": null,
   "metadata": {
    "id": "b5rlfhkASTSg"
   },
   "outputs": [],
   "source": [
    "def meanDistance(cluster1, cluster2):\n",
    "  cluster1Transformed = transformation(cluster1, [])\n",
    "  cluster2Transformed = transformation(cluster2, [])\n",
    "  mean1 = np.sum(np.array(cluster1Transformed)[:,1:].astype('float'), axis=0) / len(cluster1Transformed)\n",
    "  mean2 = np.sum(np.array(cluster2Transformed)[:,1:].astype('float'), axis=0) / len(cluster2Transformed)\n",
    "  meanDist = abs(euclideanDistance(mean1, mean2))\n",
    "  return meanDist"
   ]
  },
  {
   "cell_type": "code",
   "execution_count": null,
   "metadata": {
    "id": "4YByGt38SU1U"
   },
   "outputs": [],
   "source": [
    "def averageDistance(cluster1, cluster2):\n",
    "  cluster1Transformed = transformation(cluster1, [])\n",
    "  cluster2Transformed = transformation(cluster2, [])\n",
    "  distances = [[abs(euclideanDistance(point1, point2)) for point2 in cluster2Transformed] for point1 in cluster1Transformed]\n",
    "  averageDist = np.sum(distances) / (len(cluster1Transformed) * len(cluster2Transformed))\n",
    "  return averageDist"
   ]
  },
  {
   "cell_type": "code",
   "execution_count": null,
   "metadata": {
    "id": "pXe1xvADSWRv"
   },
   "outputs": [],
   "source": [
    "def agglomerativeClustering(dataset, choiceOfDistance):\n",
    "  functionOfDistance = None\n",
    "  if choiceOfDistance == 1:\n",
    "    functionOfDistance = minimumDistance\n",
    "  elif choiceOfDistance == 2:\n",
    "    functionOfDistance = maximumDistance\n",
    "  elif choiceOfDistance == 3:\n",
    "    functionOfDistance = meanDistance\n",
    "  elif choiceOfDistance == 4:\n",
    "    functionOfDistance = averageDistance\n",
    "  numberOfIterations = len(dataset) - 1\n",
    "  heirarchy = []\n",
    "  clustersHeirarchy = dataset.to_numpy().tolist()\n",
    "  statesHeirarchy = dataset['States'].to_numpy().tolist()\n",
    "  for i in range(numberOfIterations):\n",
    "    minimumDist = []\n",
    "    for j in range(len(clustersHeirarchy)):\n",
    "      for k in range(j+1, len(clustersHeirarchy)):\n",
    "        distance = functionOfDistance(np.array(clustersHeirarchy[j]), np.array(clustersHeirarchy[k]))\n",
    "        if len(minimumDist) == 0:\n",
    "          minimumDist.append(distance)\n",
    "          minimumDist.append(clustersHeirarchy[j])\n",
    "          minimumDist.append(clustersHeirarchy[k])\n",
    "          minimumDist.append(statesHeirarchy[j])\n",
    "          minimumDist.append(statesHeirarchy[k])\n",
    "        else:\n",
    "          if minimumDist[0] > distance:\n",
    "            minimumDist.clear()\n",
    "            minimumDist.append(distance)\n",
    "            minimumDist.append(clustersHeirarchy[j])\n",
    "            minimumDist.append(clustersHeirarchy[k])\n",
    "            minimumDist.append(statesHeirarchy[j])\n",
    "            minimumDist.append(statesHeirarchy[k])\n",
    "\n",
    "    clustersHeirarchy.remove(minimumDist[1])\n",
    "    clustersHeirarchy.remove(minimumDist[2])\n",
    "    clustersHeirarchy.append([minimumDist[1], minimumDist[2]])\n",
    "\n",
    "    statesHeirarchy.remove(minimumDist[3])\n",
    "    statesHeirarchy.remove(minimumDist[4])\n",
    "    statesHeirarchy.append([minimumDist[3], minimumDist[4]])\n",
    "\n",
    "  return statesHeirarchy[0]"
   ]
  },
  {
   "cell_type": "code",
   "execution_count": null,
   "metadata": {
    "colab": {
     "base_uri": "https://localhost:8080/",
     "height": 1000
    },
    "id": "jT6lv6aqSXx3",
    "outputId": "803c1bd2-5df2-4fb0-9142-44f879032e53"
   },
   "outputs": [
    {
     "name": "stdout",
     "output_type": "stream",
     "text": [
      "Different Types Of Distance Measures: \n",
      "\t1. Minimum Distance\n",
      "\t2. Maximum Distance\n",
      "\t3. Mean Distance\n",
      "\t4. Average Distance\n",
      "\n",
      "Which Distance Measure do you want to use ? 1\n",
      "You have chosen \"Minimum Distance\" measure\n",
      "\n",
      "Heirarchy:\n",
      "\n",
      "[  'North Carolina',\n",
      "   [  'Florida',\n",
      "      [  'Alaska',\n",
      "         [  [  ['California', ['Maryland', ['Arizona', 'New Mexico']]],\n",
      "               [  [  'Delaware',\n",
      "                     [  [['Illinois', 'New York'], ['Michigan', 'Nevada']],\n",
      "                        ['Alabama', 'Louisiana']]],\n",
      "                  ['Mississippi', 'South Carolina']]],\n",
      "            [  [  [  ['Missouri', ['Arkansas', 'Tennessee']],\n",
      "                     [  'Rhode Island',\n",
      "                        [  [  'Oregon',\n",
      "                              [  'Washington',\n",
      "                                 ['Wyoming', ['Oklahoma', 'Virginia']]]],\n",
      "                           ['Massachusetts', 'New Jersey']]]],\n",
      "                  ['Georgia', ['Colorado', 'Texas']]],\n",
      "               [  [  'Idaho',\n",
      "                     [  ['Kentucky', 'Montana'],\n",
      "                        [  [['Indiana', 'Kansas'], ['Ohio', 'Utah']],\n",
      "                           ['Nebraska', ['Connecticut', 'Pennsylvania']]]]],\n",
      "                  [  'Hawaii',\n",
      "                     [  ['West Virginia', ['Maine', 'South Dakota']],\n",
      "                        [  'Minnesota',\n",
      "                           [  ['Wisconsin', ['Iowa', 'New Hampshire']],\n",
      "                              ['North Dakota', 'Vermont']]]]]]]]]]]\n",
      "\n",
      "Dendogram of the Clusters: \n"
     ]
    },
    {
     "data": {
      "image/png": "[encoded data removed]",
      "text/plain": [
       "<Figure size 432x288 with 1 Axes>"
      ]
     },
     "metadata": {
      "needs_background": "light"
     },
     "output_type": "display_data"
    },
    {
     "name": "stdout",
     "output_type": "stream",
     "text": [
      "\n",
      "Do you want to re-execute the algorithm ? (yes / no): Yes\n",
      "Invalid Choice!\n",
      "\n",
      "Which Distance Measure do you want to use ? (yes / no): yes\n",
      "\n",
      "--------------------------------------------------------------------------------\n",
      "\n",
      "Different Types Of Distance Measures: \n",
      "\t1. Minimum Distance\n",
      "\t2. Maximum Distance\n",
      "\t3. Mean Distance\n",
      "\t4. Average Distance\n",
      "\n",
      "Which Distance Measure do you want to use ? 2\n",
      "You have chosen \"Maximum Distance\" measure\n",
      "\n",
      "Heirarchy:\n",
      "\n",
      "[  [  ['Florida', 'North Carolina'],\n",
      "      [  [  ['Delaware', ['Alabama', 'Louisiana']],\n",
      "            ['Alaska', ['Mississippi', 'South Carolina']]],\n",
      "         [  ['Maryland', ['Arizona', 'New Mexico']],\n",
      "            [  'California',\n",
      "               [['Illinois', 'New York'], ['Michigan', 'Nevada']]]]]],\n",
      "   [  [  [  ['Missouri', ['Arkansas', 'Tennessee']],\n",
      "            ['Georgia', ['Colorado', 'Texas']]],\n",
      "         [  'Rhode Island',\n",
      "            [  ['Wyoming', ['Oregon', ['Oklahoma', 'Virginia']]],\n",
      "               ['Washington', ['Massachusetts', 'New Jersey']]]]],\n",
      "      [  [  [['Ohio', 'Utah'], ['Connecticut', 'Pennsylvania']],\n",
      "            [  ['Nebraska', ['Kentucky', 'Montana']],\n",
      "               ['Idaho', ['Indiana', 'Kansas']]]],\n",
      "         [  ['Hawaii', ['Minnesota', ['Wisconsin', ['Iowa', 'New Hampshire']]]],\n",
      "            [  ['West Virginia', ['Maine', 'South Dakota']],\n",
      "               ['North Dakota', 'Vermont']]]]]]\n",
      "\n",
      "Dendogram of the Clusters: \n"
     ]
    },
    {
     "data": {
      "image/png": "[encoded data removed]",
      "text/plain": [
       "<Figure size 432x288 with 1 Axes>"
      ]
     },
     "metadata": {
      "needs_background": "light"
     },
     "output_type": "display_data"
    },
    {
     "name": "stdout",
     "output_type": "stream",
     "text": [
      "\n",
      "Do you want to re-execute the algorithm ? (yes / no): yes\n",
      "\n",
      "--------------------------------------------------------------------------------\n",
      "\n",
      "Different Types Of Distance Measures: \n",
      "\t1. Minimum Distance\n",
      "\t2. Maximum Distance\n",
      "\t3. Mean Distance\n",
      "\t4. Average Distance\n",
      "\n",
      "Which Distance Measure do you want to use ? 3\n",
      "You have chosen \"Mean Distance\" measure\n",
      "\n",
      "Heirarchy:\n",
      "\n",
      "[  [  [  ['California', ['Maryland', ['Arizona', 'New Mexico']]],\n",
      "         [  [  ['Alabama', ['Delaware', 'Louisiana']],\n",
      "               [['Illinois', 'New York'], ['Michigan', 'Nevada']]],\n",
      "            ['Alaska', ['Mississippi', 'South Carolina']]]],\n",
      "      ['Florida', 'North Carolina']],\n",
      "   [  [  [  ['Missouri', ['Arkansas', 'Tennessee']],\n",
      "            ['Georgia', ['Colorado', 'Texas']]],\n",
      "         [  'Rhode Island',\n",
      "            [  ['Massachusetts', 'New Jersey'],\n",
      "               [  'Washington',\n",
      "                  ['Oregon', ['Wyoming', ['Oklahoma', 'Virginia']]]]]]],\n",
      "      [  [  ['Idaho', ['Kentucky', 'Montana']],\n",
      "            [  ['Ohio', 'Utah'],\n",
      "               [  'Nebraska',\n",
      "                  [['Indiana', 'Kansas'], ['Connecticut', 'Pennsylvania']]]]],\n",
      "         [  'Hawaii',\n",
      "            [  ['West Virginia', ['Maine', 'South Dakota']],\n",
      "               [  ['North Dakota', 'Vermont'],\n",
      "                  ['Minnesota', ['Wisconsin', ['Iowa', 'New Hampshire']]]]]]]]]\n",
      "\n",
      "Dendogram of the Clusters: \n"
     ]
    },
    {
     "data": {
      "image/png": "[encoded data removed]",
      "text/plain": [
       "<Figure size 432x288 with 1 Axes>"
      ]
     },
     "metadata": {
      "needs_background": "light"
     },
     "output_type": "display_data"
    },
    {
     "name": "stdout",
     "output_type": "stream",
     "text": [
      "\n",
      "Do you want to re-execute the algorithm ? (yes / no): yes\n",
      "\n",
      "--------------------------------------------------------------------------------\n",
      "\n",
      "Different Types Of Distance Measures: \n",
      "\t1. Minimum Distance\n",
      "\t2. Maximum Distance\n",
      "\t3. Mean Distance\n",
      "\t4. Average Distance\n",
      "\n",
      "Which Distance Measure do you want to use ? 4\n",
      "You have chosen \"Average Distance\" measure\n",
      "\n",
      "Heirarchy:\n",
      "\n",
      "[  [  ['Florida', 'North Carolina'],\n",
      "      [  ['California', ['Maryland', ['Arizona', 'New Mexico']]],\n",
      "         [  [  ['Delaware', ['Alabama', 'Louisiana']],\n",
      "               [['Illinois', 'New York'], ['Michigan', 'Nevada']]],\n",
      "            ['Alaska', ['Mississippi', 'South Carolina']]]]],\n",
      "   [  [  [  ['Washington', ['Oregon', ['Wyoming', ['Oklahoma', 'Virginia']]]],\n",
      "            ['Rhode Island', ['Massachusetts', 'New Jersey']]],\n",
      "         [  ['Missouri', ['Arkansas', 'Tennessee']],\n",
      "            ['Georgia', ['Colorado', 'Texas']]]],\n",
      "      [  [  ['Idaho', ['Nebraska', ['Kentucky', 'Montana']]],\n",
      "            [  ['Ohio', 'Utah'],\n",
      "               [['Indiana', 'Kansas'], ['Connecticut', 'Pennsylvania']]]],\n",
      "         [  'Hawaii',\n",
      "            [  ['West Virginia', ['Maine', 'South Dakota']],\n",
      "               [  ['North Dakota', 'Vermont'],\n",
      "                  ['Minnesota', ['Wisconsin', ['Iowa', 'New Hampshire']]]]]]]]]\n",
      "\n",
      "Dendogram of the Clusters: \n"
     ]
    },
    {
     "data": {
      "image/png": "[encoded data removed]",
      "text/plain": [
       "<Figure size 432x288 with 1 Axes>"
      ]
     },
     "metadata": {
      "needs_background": "light"
     },
     "output_type": "display_data"
    },
    {
     "name": "stdout",
     "output_type": "stream",
     "text": [
      "\n",
      "Do you want to re-execute the algorithm ? (yes / no): no\n",
      "\n",
      "--------------------------------------------------------------------------------\n",
      "\n"
     ]
    }
   ],
   "source": [
    "choicesOfDistance = ['Minimum Distance', 'Maximum Distance', 'Mean Distance', 'Average Distance']\n",
    "while(True):\n",
    "  print('Different Types Of Distance Measures: ')\n",
    "  print('\\t1. Minimum Distance')\n",
    "  print('\\t2. Maximum Distance')\n",
    "  print('\\t3. Mean Distance')\n",
    "  print('\\t4. Average Distance\\n')\n",
    "  choiceOfDistance = int(input('Which Distance Measure do you want to use ? '))\n",
    "  while(True):\n",
    "    if choiceOfDistance > 0 and choiceOfDistance < 5:\n",
    "      break\n",
    "    else:\n",
    "      print('Invalid Choice!\\n')\n",
    "      choiceOfDistance = int(input('Which Distance Measure do you want to use ? '))\n",
    "  print(f'You have chosen \"{choicesOfDistance[choiceOfDistance-1]}\" measure')\n",
    "  clustersHeirarchy = agglomerativeClustering(usarrests, choiceOfDistance)\n",
    "  print('\\nHeirarchy:\\n')\n",
    "  pprint.pprint(clustersHeirarchy, indent=3)\n",
    "  print('\\nDendogram of the Clusters: ')\n",
    "  method = None\n",
    "  if choiceOfDistance == 1:\n",
    "    method = 'single'\n",
    "  elif choiceOfDistance == 2:\n",
    "    method = 'complete'\n",
    "  elif choiceOfDistance == 3:\n",
    "    method = 'centroid'\n",
    "  else:\n",
    "    method = 'average'\n",
    "  matrix = scipy.cluster.hierarchy.linkage(dataset_copy, method=method)\n",
    "  scipy.cluster.hierarchy.dendrogram(matrix)\n",
    "  plt.show()\n",
    "  toReExecute = input('\\nDo you want to re-execute the algorithm ? (yes / no): ')\n",
    "  while(True):\n",
    "    if toReExecute == 'yes':\n",
    "      toReExecute = True\n",
    "      break\n",
    "    if toReExecute == 'no':\n",
    "      toReExecute = False\n",
    "      break\n",
    "    else:\n",
    "      print('Invalid Choice!\\n')\n",
    "      toReExecute = input('Which Distance Measure do you want to use ? (yes / no): ')\n",
    "  print('\\n--------------------------------------------------------------------------------\\n')\n",
    "  if toReExecute:\n",
    "    continue\n",
    "  else:\n",
    "    break"
   ]
  },
  {
   "cell_type": "code",
   "execution_count": null,
   "metadata": {
    "id": "Kbhi4SVoSZMg"
   },
   "outputs": [],
   "source": []
  }
 ],
 "metadata": {
  "colab": {
   "name": "18BCP011-Assgn-10-agglomerative.ipynb",
   "provenance": []
  },
  "kernelspec": {
   "display_name": "Python 3",
   "language": "python",
   "name": "python3"
  },
  "language_info": {
   "codemirror_mode": {
    "name": "ipython",
    "version": 3
   },
   "file_extension": ".py",
   "mimetype": "text/x-python",
   "name": "python",
   "nbconvert_exporter": "python",
   "pygments_lexer": "ipython3",
   "version": "3.8.8"
  }
 },
 "nbformat": 4,
 "nbformat_minor": 1
}
